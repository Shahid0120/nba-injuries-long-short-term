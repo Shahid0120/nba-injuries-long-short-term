{
 "cells": [
  {
   "cell_type": "code",
   "execution_count": 20,
   "id": "ae1182e3-e688-4934-a188-527a84ab4f9a",
   "metadata": {},
   "outputs": [],
   "source": [
    "import json\n",
    "import sys\n",
    "import pandas as pd\n",
    "import sqlite3"
   ]
  },
  {
   "cell_type": "markdown",
   "id": "6b06d1c0-5009-45e7-b537-9b53b513e545",
   "metadata": {},
   "source": [
    "# A lense from a statistical point of view. Can we create a ML model to predicit the outcomes?\n",
    "\n",
    "# Introduction\n",
    "\n",
    "After watching sports for many years, I noticed the negative impact of long-term injuries, especially in the NBA. I went on to examine it. Randomly, I clicked on a video where a popular YouTuber states, 'Look at KD; he had an ACL injury, and before that, he had a calf strain.' Is this really true? The YouTube channel mentioned is MPJPerformance, and the video link is [here!](https://www.youtube.com/watch?v=HnPjGpcTU8A&t=47s.)\n",
    "\n",
    "# Retriving and Cleaning the data\n",
    "\n",
    "## Firstly getting the data \n",
    "\n",
    "Luckly for me the raw data is already avaliable, big thanks to JaseZiv for the github repositry [click here!](https://github.com/JaseZiv/NBA_data/tree/main)\n",
    "\n",
    "## How is the data currently structured? \n",
    "\n",
    "the file named \"nba_injuries\" has webcrawled various NBA sources and the original files follow a JSON schema as follows:\n",
    "\n"
   ]
  },
  {
   "cell_type": "code",
   "execution_count": 5,
   "id": "4b6ea113-dc3a-46db-88a2-9b0ab5260647",
   "metadata": {},
   "outputs": [],
   "source": [
    "basketball_data = {\n",
    "    \"Date\": \"1947-08-05\",\n",
    "    \"Team\": \"Bombers (BAA)\",\n",
    "    \"Acquired\": None,\n",
    "    \"Relinquished\": \"Jack Underman\",\n",
    "    \"Notes\": \"fractured legs (in auto accident) (out indefinitely) (date approximate)\"\n",
    "}"
   ]
  },
  {
   "cell_type": "markdown",
   "id": "7ac67904-aa92-4253-a1d5-51038a2c1603",
   "metadata": {},
   "source": [
    "## Creating a database and cleaning up the data \n",
    "\n",
    "Before we can clean the data to remove duplicates and unnessary/missing inputs we first need to create a database scehema appropriate to our queries and data retrival goals. \n",
    " \n",
    "- Identify all injured players easily \n",
    "- Identify length of injury easily\n",
    "- Identify if this play has prior/future injury\n",
    "- Proximity of next injury/prior injury\n",
    "\n",
    "Based on these retrival goals we can take a view from a statisatical POV if \"long term injuries are srouced from short term injuries\". Where we can explore; \n"
   ]
  },
  {
   "cell_type": "markdown",
   "id": "58e39fa3-48cf-45c6-aa9a-ddfdfd168d39",
   "metadata": {},
   "source": [
    "$$\n",
    "\\begin{align*}\n",
    "P(\\text{long-term injury} \\mid \\text{short-term injury}), \\\\\n",
    "P(\\text{not having a long-term injury} \\mid \\text{short-term injury}), \\\\\n",
    "P(\\text{Another long-term injury} \\mid \\text{long term injury}), \\\\\n",
    "P(\\text{short-term injury, specific types}), \\\\\n",
    "P(\\text{long-term injury, specific types}).\n",
    "\\end{align*}\n",
    "$$\n",
    "\n",
    "\n",
    "\n"
   ]
  },
  {
   "cell_type": "markdown",
   "id": "09a52458-2131-41e3-aa00-36756fc11a41",
   "metadata": {},
   "source": [
    "### Now how to classify a long term and short term injury? \n",
    "\n",
    "According to bard language model, a short term injury ranges from 0 to 8 week recovery times, whilst a long term injury is tipically 8 weeks plus. "
   ]
  },
  {
   "cell_type": "markdown",
   "id": "4609d527-145c-40e8-9107-88f5a0a09dbd",
   "metadata": {},
   "source": [
    "## Converting to a database\n",
    "As pointed out by Chip Huyen in Chapter two of \"Designing Machine Learning Systems\" states the importance of Data Models \"How you choose to represent data not only affects the way your systems are built, but also the problems your systems can solve\". Using this chapter as a out Chip outlines \"NoSQL\" to follow a strict schema, therefore for time saving we will use a \"Relational Database\". "
   ]
  },
  {
   "cell_type": "code",
   "execution_count": 52,
   "id": "e92c07ff-ae9b-45e3-9219-01c50ece40c4",
   "metadata": {},
   "outputs": [],
   "source": [
    "raw_data = '/Users/shahid/Github/nba-injuries-long-short-term/raw_data/nba_injuries.json'\n",
    "df = pd.read_json(raw_data)\n",
    "db_file = 'nba_injury_v1.db'\n",
    "conn = sqlite3.connect(db_file)\n",
    "nba_table = 'nab_injury_table'\n",
    "df.to_sql(nba_table, conn, index=False, if_exists='replace')\n",
    "conn.close()"
   ]
  },
  {
   "cell_type": "code",
   "execution_count": 56,
   "id": "c8705a7e-1209-4155-83f0-fda07c8a3f37",
   "metadata": {},
   "outputs": [
    {
     "name": "stdout",
     "output_type": "stream",
     "text": [
      "Number of rows in nab_injury_table: 68603\n"
     ]
    }
   ],
   "source": [
    "conn = sqlite3.connect(db_file)\n",
    "query_check = f\"SELECT COUNT(*) FROM {nba_table}\"\n",
    "count_rows = pd.read_sql_query(query_check, conn)\n",
    "print(f\"Number of rows in {nba_table}: {count_rows.iloc[0, 0]}\")\n",
    "conn.close()\n"
   ]
  },
  {
   "cell_type": "code",
   "execution_count": 69,
   "id": "1b8ab917-07a5-431a-a530-60e3684c970e",
   "metadata": {},
   "outputs": [
    {
     "name": "stdout",
     "output_type": "stream",
     "text": [
      "Number of Rows: 68603\n",
      "Number of Columns: 5\n",
      "Date             1949-12-23 00:00:00\n",
      "Team                          Knicks\n",
      "Acquired                            \n",
      "Relinquished            Vince Boryla\n",
      "Notes           mumps (out ~2 weeks)\n",
      "Name: 4, dtype: object\n",
      "\n",
      "New output\n",
      "\n",
      "Date                                          1947-08-05 00:00:00\n",
      "Team                                                Bombers (BAA)\n",
      "Acquired                                                         \n",
      "Relinquished                                        Jack Underman\n",
      "Notes           fractured legs (in auto accident) (out indefin...\n",
      "Name: 1, dtype: object\n",
      "\n",
      "New output\n",
      "\n",
      "Date            1988-01-30 00:00:00\n",
      "Team                       Clippers\n",
      "Acquired           Lancaster Gordon\n",
      "Relinquished                       \n",
      "Notes             activated from IL\n",
      "Name: 1000, dtype: object\n",
      "\n",
      "New output\n",
      "\n"
     ]
    }
   ],
   "source": [
    "conn = sqlite3.connect(db_file)\n",
    "query = f\"SELECT * FROM {nba_table}\"\n",
    "print(\"Number of Rows:\", result.shape[0])\n",
    "print(\"Number of Columns:\", result.shape[1])\n",
    "\n",
    "# Display the first 10 rows\n",
    "result.head(10)\n",
    "print(df.iloc[4])\n",
    "print(f\"\\nNew output\\n\")\n",
    "print(df.iloc[1])\n",
    "print(f\"\\nNew output\\n\")\n",
    "print(df.iloc[1000])\n",
    "print(f\"\\nNew output\\n\")\n",
    "conn.close()"
   ]
  },
  {
   "cell_type": "markdown",
   "id": "a7e9f9b1-a416-46fe-a3eb-bfde0808bed5",
   "metadata": {},
   "source": [
    "Clearly we "
   ]
  },
  {
   "cell_type": "code",
   "execution_count": null,
   "id": "7a3a397e-da74-4de0-be9c-895c9f20ca6f",
   "metadata": {},
   "outputs": [],
   "source": []
  }
 ],
 "metadata": {
  "kernelspec": {
   "display_name": "Python 3 (ipykernel)",
   "language": "python",
   "name": "python3"
  },
  "language_info": {
   "codemirror_mode": {
    "name": "ipython",
    "version": 3
   },
   "file_extension": ".py",
   "mimetype": "text/x-python",
   "name": "python",
   "nbconvert_exporter": "python",
   "pygments_lexer": "ipython3",
   "version": "3.12.1"
  }
 },
 "nbformat": 4,
 "nbformat_minor": 5
}
