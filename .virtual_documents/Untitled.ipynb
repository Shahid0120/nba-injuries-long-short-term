import json
import sys
import pandas as pd
import sqlite3





basketball_data = {
    "Date": "1947-08-05",
    "Team": "Bombers (BAA)",
    "Acquired": None,
    "Relinquished": "Jack Underman",
    "Notes": "fractured legs (in auto accident) (out indefinitely) (date approximate)"
}














raw_data = '/Users/shahid/Github/nba-injuries-long-short-term/raw_data/nba_injuries.json'
df = pd.read_json(raw_data)
db_file = 'nba_injury_v1.db'
conn = sqlite3.connect(db_file)
nba_table = 'nab_injury_table'
df.to_sql(nba_table, conn, index=False, if_exists='replace')
conn.close()


conn = sqlite3.connect(db_file)
query_check = f"SELECT COUNT(*) FROM {nba_table}"
count_rows = pd.read_sql_query(query_check, conn)
print(f"Number of rows in {nba_table}: {count_rows.iloc[0, 0]}")
conn.close()



conn = sqlite3.connect(db_file)
# Display the first 10 rows
print(f"\nNew output\n")
print(df.iloc[4])
print(f"\nNew output\n")
print(df.iloc[1])
print(f"\nNew output\n")
print(df.iloc[1000])
print(f"\nNew output\n")
conn.close()






